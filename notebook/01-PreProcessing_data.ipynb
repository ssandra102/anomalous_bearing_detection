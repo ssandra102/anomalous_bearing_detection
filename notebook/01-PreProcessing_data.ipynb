{
 "cells": [
  {
   "cell_type": "code",
   "execution_count": null,
   "id": "2f5e0ce7",
   "metadata": {},
   "outputs": [],
   "source": []
  },
  {
   "cell_type": "code",
   "execution_count": null,
   "id": "e5227a19",
   "metadata": {},
   "outputs": [],
   "source": [
    "import matplotlib.pyplot as plt\n",
    "import scipy.io\n",
    "import numpy as np\n",
    "import pandas as pd\n",
    "import os\n"
   ]
  },
  {
   "cell_type": "code",
   "execution_count": null,
   "id": "76ddd547",
   "metadata": {},
   "outputs": [],
   "source": [
    "path=r'2nd_test'\n",
    "filename = '2004.02.12.10.32.39'\n",
    "dataset=pd.read_csv(os.path.join(path, filename), sep='\\t',header=None)\n",
    "\n",
    "for i in [0,1,2,3]:\n",
    "    \n",
    "    df_bearing=np.array(dataset.iloc[:,i])#select ith bearing data\n",
    "    \n",
    "    plt.figure(figsize=(20, 5))\n",
    "    plt.plot(df_bearing)\n",
    "\n",
    "    plt.legend(['Bearing {}'.format(i+1)])\n",
    "\n",
    "    plt.xlabel(\"Data-point\")\n",
    "    plt.ylabel(\"Acceleration\")\n",
    "    plt.title('Bearing {}'.format(i+1))\n",
    "    plt.show()\n"
   ]
  },
  {
   "cell_type": "code",
   "execution_count": null,
   "id": "efef5e15",
   "metadata": {},
   "outputs": [],
   "source": [
    "def compute_skewness(x):\n",
    "    \n",
    "    n = len(x)\n",
    "    third_moment = np.sum((x - np.mean(x))**3) / n\n",
    "    s_3 = np.std(x, ddof = 1) ** 3\n",
    "    return third_moment/s_3\n",
    "def compute_kurtosis(x):\n",
    "    \n",
    "    n = len(x)\n",
    "    fourth_moment = np.sum((x - np.mean(x))**4) / n\n",
    "    s_4 = np.std(x, ddof = 1) ** 4\n",
    "    return fourth_moment / s_4 - 3"
   ]
  },
  {
   "cell_type": "code",
   "execution_count": null,
   "id": "26d5954f",
   "metadata": {},
   "outputs": [],
   "source": [
    "Test=[1,2,3]\n",
    "Bearing_No=[1,2,3,4]\n",
    "\n",
    "### update path with 2nd_test and 3rd_test \n",
    "# path=r'1st_test' \n",
    "# path=r'2nd_test'\n",
    "path=r'3rd_test'\n",
    "for bearing_no in Bearing_No:\n",
    "    Time_feature_matrix=pd.DataFrame()\n",
    "    \n",
    "    for filename in os.listdir(path):\n",
    "    \n",
    "        dataset=pd.read_csv(os.path.join(path, filename), sep='\\t',header=None)\n",
    "\n",
    "        bearing_data = np.array(dataset.iloc[:,bearing_no-1])\n",
    "\n",
    "        feature_matrix=np.zeros((1,9))\n",
    "        temp = bearing_data\n",
    "        feature_matrix[0,0] = np.max(temp)\n",
    "        feature_matrix[0,1] = np.min(temp)\n",
    "        feature_matrix[0,2] = np.mean(temp)\n",
    "        feature_matrix[0,3] = np.std(temp, ddof = 1)\n",
    "        feature_matrix[0,4] = np.sqrt(np.mean(temp ** 2))\n",
    "        feature_matrix[0,5] = compute_skewness(temp)\n",
    "        feature_matrix[0,6] = compute_kurtosis(temp)\n",
    "        feature_matrix[0,7] = feature_matrix[0,0]/feature_matrix[0,4]\n",
    "        feature_matrix[0,8] = feature_matrix[0,4]/feature_matrix[0,2]\n",
    "\n",
    "        df = pd.DataFrame(feature_matrix)\n",
    "        df.index=[filename[:-3]]\n",
    "\n",
    "        Time_feature_matrix = pd.concat([df, Time_feature_matrix])\n",
    "\n",
    "    # Time_feature_matrix\n",
    "    Time_feature_matrix.columns = ['Max','Min','Mean','Std','RMS','Skewness','Kurtosis','Crest Factor','Form Factor']\n",
    "    Time_feature_matrix.index = pd.to_datetime(Time_feature_matrix.index, format='%Y.%m.%d.%H.%M')\n",
    "\n",
    "    Time_feature_matrix = Time_feature_matrix.sort_index()\n",
    "\n",
    "    Time_feature_matrix.to_csv(\"Time_feature_matrix_Bearing_{}_Test_3.csv\".format(bearing_no))"
   ]
  },
  {
   "cell_type": "code",
   "execution_count": null,
   "id": "fe71a029",
   "metadata": {},
   "outputs": [],
   "source": [
    "df1 = pd.read_csv(\"Time_feature_matrix_Bearing_4_Test_1.csv\",index_col='Unnamed: 0')\n",
    "df1"
   ]
  },
  {
   "cell_type": "code",
   "execution_count": null,
   "id": "488b5ff0",
   "metadata": {},
   "outputs": [],
   "source": [
    "\n",
    "\n"
   ]
  },
  {
   "cell_type": "code",
   "execution_count": null,
   "id": "6ff78d81",
   "metadata": {},
   "outputs": [],
   "source": [
    "\n"
   ]
  },
  {
   "cell_type": "code",
   "execution_count": null,
   "id": "236f46a0",
   "metadata": {},
   "outputs": [],
   "source": []
  },
  {
   "cell_type": "code",
   "execution_count": null,
   "id": "c44b48b0",
   "metadata": {},
   "outputs": [],
   "source": [
    "\n"
   ]
  },
  {
   "cell_type": "code",
   "execution_count": null,
   "id": "2eb4e630",
   "metadata": {},
   "outputs": [],
   "source": []
  },
  {
   "cell_type": "code",
   "execution_count": null,
   "id": "0913b2b8",
   "metadata": {},
   "outputs": [],
   "source": []
  },
  {
   "cell_type": "code",
   "execution_count": null,
   "id": "f930bc5d",
   "metadata": {},
   "outputs": [],
   "source": []
  },
  {
   "cell_type": "code",
   "execution_count": null,
   "id": "af946917",
   "metadata": {},
   "outputs": [],
   "source": []
  },
  {
   "cell_type": "code",
   "execution_count": null,
   "id": "aa4dfcf5",
   "metadata": {},
   "outputs": [],
   "source": []
  },
  {
   "cell_type": "code",
   "execution_count": null,
   "id": "7123a77a",
   "metadata": {},
   "outputs": [],
   "source": []
  }
 ],
 "metadata": {
  "kernelspec": {
   "display_name": "Python 3 (ipykernel)",
   "language": "python",
   "name": "python3"
  },
  "language_info": {
   "codemirror_mode": {
    "name": "ipython",
    "version": 3
   },
   "file_extension": ".py",
   "mimetype": "text/x-python",
   "name": "python",
   "nbconvert_exporter": "python",
   "pygments_lexer": "ipython3",
   "version": "3.10.6"
  },
  "vscode": {
   "interpreter": {
    "hash": "aff3b01c940582fe8785fbf50639e6908d23e111150254af7e68b7c08084e9ea"
   }
  }
 },
 "nbformat": 4,
 "nbformat_minor": 5
}
