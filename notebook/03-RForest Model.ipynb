{
 "cells": [
  {
   "cell_type": "code",
   "execution_count": null,
   "id": "4da0325c",
   "metadata": {},
   "outputs": [],
   "source": []
  },
  {
   "cell_type": "code",
   "execution_count": null,
   "id": "388f1633",
   "metadata": {},
   "outputs": [],
   "source": [
    "import matplotlib.pyplot as plt\n",
    "import numpy as np\n",
    "import pandas as pd\n",
    "import seaborn as sns\n",
    "df1=pd.read_csv('Normal_Bearing.csv')\n",
    "df2=pd.read_csv('outer_race_fault_test_2.csv')\n",
    "\n",
    "df = pd.concat([df1,df2])\n",
    "df.to_csv('The_data_with_normal_orf.csv',index=False)\n",
    "df"
   ]
  },
  {
   "cell_type": "code",
   "execution_count": null,
   "id": "6a041dab",
   "metadata": {},
   "outputs": [],
   "source": [
    "X = df.iloc[:,:-1]\n",
    "y = df.iloc[:,-1]\n",
    "from sklearn.model_selection import train_test_split\n",
    "X_train, X_test, y_train, y_test = train_test_split( X, y, test_size=0.20)\n",
    "from sklearn.ensemble import RandomForestClassifier\n",
    "from sklearn.metrics import confusion_matrix\n",
    "\n",
    "rf_model = RandomForestClassifier().fit(X_train, y_train)\n",
    "y_pred = rf_model.predict(X_test)\n",
    "  \n",
    "labels=['Normal', 'Outer Race', 'Inner Race', 'Roller Element']    \n",
    "    \n",
    "# creating a confusion matrix\n",
    "cm = confusion_matrix(y_test, y_pred,labels=['Normal', 'Outer Race', 'Inner Race', 'Roller Element'], normalize ='true')\n",
    "colormap = sns.color_palette(\"Reds\")\n",
    "sns.heatmap(cm, annot=True,cmap=colormap,xticklabels=labels, yticklabels=labels)"
   ]
  },
  {
   "cell_type": "markdown",
   "id": "eab8ce47",
   "metadata": {},
   "source": [
    "## Testing using this Random Forest Model\n",
    "At the end of the TEST-1, inner race defect occurred in bearing 3 and roller element defect in bearing 4.\n",
    "At the end of the TEST-2, outer race failure occurred in bearing 1.\n",
    "At the end of the TEST-3, outer race failure occurred in bearing 3."
   ]
  },
  {
   "cell_type": "code",
   "execution_count": null,
   "id": "a7991e21",
   "metadata": {},
   "outputs": [],
   "source": [
    "Test_no=2\n",
    "Bearing_no=1\n",
    "\n",
    "test_2 = pd.read_csv(\"Time_feature_matrix_Bearing_{}_Test_{}.csv\".format(Bearing_no,Test_no),index_col='Unnamed: 0')\n",
    "y_pred_test_2 = rf_model.predict(test_2)\n",
    "y_pred_test_2"
   ]
  },
  {
   "cell_type": "code",
   "execution_count": null,
   "id": "a711c809",
   "metadata": {},
   "outputs": [],
   "source": [
    "test_2['Fault']=y_pred_test_2\n",
    "test_2"
   ]
  },
  {
   "cell_type": "code",
   "execution_count": null,
   "id": "1ed58c22",
   "metadata": {},
   "outputs": [],
   "source": [
    "test_2.index = pd.to_datetime(test_2.index)"
   ]
  },
  {
   "cell_type": "code",
   "execution_count": null,
   "id": "13ed2d27",
   "metadata": {},
   "outputs": [],
   "source": [
    "import pickle\n",
    "pickle.dump(rf_model, open('model.pkl', 'wb'))"
   ]
  },
  {
   "cell_type": "code",
   "execution_count": null,
   "id": "bc7bd9f0",
   "metadata": {},
   "outputs": [],
   "source": [
    "pickled_model = pickle.load(open('model.pkl', 'rb'))\n",
    "pickled_model.predict(test_2)"
   ]
  }
 ],
 "metadata": {
  "kernelspec": {
   "display_name": "Python 3",
   "language": "python",
   "name": "python3"
  },
  "language_info": {
   "codemirror_mode": {
    "name": "ipython",
    "version": 3
   },
   "file_extension": ".py",
   "mimetype": "text/x-python",
   "name": "python",
   "nbconvert_exporter": "python",
   "pygments_lexer": "ipython3",
   "version": "3.10.6"
  },
  "vscode": {
   "interpreter": {
    "hash": "aff3b01c940582fe8785fbf50639e6908d23e111150254af7e68b7c08084e9ea"
   }
  }
 },
 "nbformat": 4,
 "nbformat_minor": 5
}
