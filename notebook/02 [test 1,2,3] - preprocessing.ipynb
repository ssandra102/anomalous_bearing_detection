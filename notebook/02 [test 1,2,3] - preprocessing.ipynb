{
 "cells": [
  {
   "cell_type": "code",
   "execution_count": null,
   "id": "b16b7ee9",
   "metadata": {},
   "outputs": [],
   "source": [
    "import matplotlib.pyplot as plt\n",
    "import scipy.io\n",
    "import numpy as np\n",
    "import pandas as pd\n",
    "import os"
   ]
  },
  {
   "cell_type": "markdown",
   "id": "0c324346",
   "metadata": {},
   "source": [
    "### test no 1\n",
    "inner race fault and roller element fault ocurs"
   ]
  },
  {
   "cell_type": "code",
   "execution_count": null,
   "id": "d09d0eb9",
   "metadata": {},
   "outputs": [],
   "source": [
    "test_no=1\n",
    "\n",
    "df1 = pd.read_csv(\"Time_feature_matrix_Bearing_1_Test_{}.csv\".format(test_no),index_col='Unnamed: 0')\n",
    "df2 = pd.read_csv(\"Time_feature_matrix_Bearing_2_Test_{}.csv\".format(test_no),index_col='Unnamed: 0')\n",
    "df3 = pd.read_csv(\"Time_feature_matrix_Bearing_3_Test_{}.csv\".format(test_no),index_col='Unnamed: 0')\n",
    "df4 = pd.read_csv(\"Time_feature_matrix_Bearing_4_Test_{}.csv\".format(test_no),index_col='Unnamed: 0')\n",
    "\n",
    "df1.index = pd.to_datetime(df1.index)\n",
    "for i,col in enumerate(df1.columns):  \n",
    "    \n",
    "        plt.figure(figsize=(10, 5))\n",
    "        plt.plot(df1.index,df1[col])\n",
    "        plt.plot(df1.index,df2[col])\n",
    "        plt.plot(df1.index,df3[col])\n",
    "        plt.plot(df1.index,df4[col])\n",
    "\n",
    "        plt.legend(['bearing-1','bearing-2','bearing-3','bearing-4'])\n",
    "\n",
    "        plt.xlabel(\"Date-Time\")\n",
    "        plt.ylabel(col)\n",
    "        plt.title(col)\n",
    "        plt.show()"
   ]
  },
  {
   "cell_type": "code",
   "execution_count": null,
   "id": "83489e0b",
   "metadata": {},
   "outputs": [],
   "source": [
    "df_irf=df3['2003-11-21 00:32:00':'2003-11-24 18:22:00']\n",
    "fault=[]\n",
    "for i in range (0,len(df_irf)):\n",
    "    fault.append('Inner Race')\n",
    "\n",
    "df_irf['Fault']=fault\n",
    "df_irf.to_csv('inner_race_fault_test_1.csv',index=False)\n",
    "df_irf"
   ]
  },
  {
   "cell_type": "code",
   "execution_count": null,
   "id": "2ae0dddc",
   "metadata": {},
   "outputs": [],
   "source": [
    "df_ref=df4['2003-11-21 00:32:00':'2003-11-24 18:22:00']\n",
    "fault=[]\n",
    "for i in range (0,len(df_ref)):\n",
    "    fault.append('Roller Element')\n",
    "\n",
    "df_ref['Fault']=fault\n",
    "df_ref.to_csv('roller_element_fault_test_1.csv',index=False)\n",
    "df_ref"
   ]
  },
  {
   "cell_type": "code",
   "execution_count": null,
   "id": "84ef44b5",
   "metadata": {},
   "outputs": [],
   "source": []
  },
  {
   "cell_type": "markdown",
   "id": "e2b04c4e",
   "metadata": {},
   "source": [
    "### test no 2\n",
    "outer race fault occurs"
   ]
  },
  {
   "cell_type": "code",
   "execution_count": null,
   "id": "79f4683b",
   "metadata": {},
   "outputs": [],
   "source": [
    "test_no=2\n",
    "\n",
    "df1 = pd.read_csv(\"Time_feature_matrix_Bearing_1_Test_{}.csv\".format(test_no),index_col='Unnamed: 0')\n",
    "df2 = pd.read_csv(\"Time_feature_matrix_Bearing_2_Test_{}.csv\".format(test_no),index_col='Unnamed: 0')\n",
    "df3 = pd.read_csv(\"Time_feature_matrix_Bearing_3_Test_{}.csv\".format(test_no),index_col='Unnamed: 0')\n",
    "df4 = pd.read_csv(\"Time_feature_matrix_Bearing_4_Test_{}.csv\".format(test_no),index_col='Unnamed: 0')\n",
    "\n",
    "df1.index = pd.to_datetime(df1.index)\n",
    "\n",
    "for i,col in enumerate(df1.columns):  \n",
    "    \n",
    "        plt.figure(figsize=(10, 5))\n",
    "        plt.plot(df1.index,df1[col])\n",
    "        plt.plot(df1.index,df2[col])\n",
    "        plt.plot(df1.index,df3[col])\n",
    "        plt.plot(df1.index,df4[col])\n",
    "\n",
    "        plt.legend(['bearing-1','bearing-2','bearing-3','bearing-4'])\n",
    "\n",
    "        plt.xlabel(\"Date-Time\")\n",
    "        plt.ylabel(col)\n",
    "        plt.title(col)\n",
    "        plt.show()"
   ]
  },
  {
   "cell_type": "code",
   "execution_count": null,
   "id": "f3e9ecfe",
   "metadata": {},
   "outputs": [],
   "source": [
    "df_orf=df1['2004-02-17 12:32:00':'2004-02-19 00:42:00']\n",
    "fault=[]\n",
    "for i in range (0,len(df_orf)):\n",
    "    fault.append('Outer Race')\n",
    "\n",
    "df_orf['Fault']=fault\n",
    "\n",
    "df_orf.to_csv('outer_race_fault_test_2.csv',index=False)  \n",
    "df_orf\n"
   ]
  },
  {
   "cell_type": "code",
   "execution_count": null,
   "id": "87606eaa",
   "metadata": {},
   "outputs": [],
   "source": []
  },
  {
   "cell_type": "markdown",
   "id": "5416597d",
   "metadata": {},
   "source": [
    "### test no 3\n",
    "outer race fault occurs"
   ]
  },
  {
   "cell_type": "code",
   "execution_count": null,
   "id": "52af05f2",
   "metadata": {},
   "outputs": [],
   "source": [
    "test_no=3\n",
    "\n",
    "df1 = pd.read_csv(\"Time_feature_matrix_Bearing_1_Test_{}.csv\".format(test_no),index_col='Unnamed: 0')\n",
    "df2 = pd.read_csv(\"Time_feature_matrix_Bearing_2_Test_{}.csv\".format(test_no),index_col='Unnamed: 0')\n",
    "df3 = pd.read_csv(\"Time_feature_matrix_Bearing_3_Test_{}.csv\".format(test_no),index_col='Unnamed: 0')\n",
    "df4 = pd.read_csv(\"Time_feature_matrix_Bearing_4_Test_{}.csv\".format(test_no),index_col='Unnamed: 0')\n",
    "\n",
    "df1.index = pd.to_datetime(df1.index)\n",
    "\n",
    "for i,col in enumerate(df1.columns):  \n",
    "    \n",
    "        plt.figure(figsize=(10, 5))\n",
    "        plt.plot(df1.index,df1[col])\n",
    "        plt.plot(df1.index,df2[col])\n",
    "        plt.plot(df1.index,df3[col])\n",
    "        plt.plot(df1.index,df4[col])\n",
    "\n",
    "        plt.legend(['bearing-1','bearing-2','bearing-3','bearing-4'])\n",
    "\n",
    "        plt.xlabel(\"Date-Time\")\n",
    "        plt.ylabel(col)\n",
    "        plt.title(col)\n",
    "        plt.show()"
   ]
  },
  {
   "cell_type": "code",
   "execution_count": null,
   "id": "5a15cb75",
   "metadata": {},
   "outputs": [],
   "source": [
    "df_orf=df3['2004-04-15 12:32:00':'2004-04-18 00:42:00']\n",
    "fault=[]\n",
    "for i in range (0,len(df_orf)):\n",
    "    fault.append('Outer Race')\n",
    "\n",
    "df_orf['Fault']=fault\n",
    "\n",
    "df_orf.to_csv('outer_race_fault_test_3.csv',index=False)  \n",
    "df_orf"
   ]
  },
  {
   "cell_type": "code",
   "execution_count": null,
   "id": "96fac885",
   "metadata": {},
   "outputs": [],
   "source": []
  },
  {
   "cell_type": "markdown",
   "id": "bf3f2cc2",
   "metadata": {},
   "source": [
    "### normal bearing dataset"
   ]
  },
  {
   "cell_type": "code",
   "execution_count": null,
   "id": "a9ff9214",
   "metadata": {},
   "outputs": [],
   "source": [
    "Test=[1,2,3]\n",
    "Bearing_No=[1,2,3,4]\n",
    "\n",
    "df_normal_bearing = pd.DataFrame()\n",
    "\n",
    "for test_no in Test:\n",
    "    for bearing_no in Bearing_No:\n",
    "        temp = pd.read_csv(\"Time_feature_matrix_Bearing_{}_Test_{}.csv\".format(bearing_no,test_no),index_col='Unnamed: 0')\n",
    "\n",
    "        starting = np.floor(len(temp)*.21)\n",
    "        ending = np.floor(len(temp)*.23)\n",
    "\n",
    "        start_time = temp.index[starting]\n",
    "        end_time = temp.index[ending]\n",
    "\n",
    "        temp = temp[start_time:end_time]\n",
    "        \n",
    "        df_normal_bearing=df_normal_bearing.append(temp)\n",
    "\n",
    "fault=[]\n",
    "for i in range (0,len(df_normal_bearing)):\n",
    "    fault.append('Normal')\n",
    "\n",
    "df_normal_bearing['Fault']=fault\n",
    "\n",
    "df_normal_bearing.to_csv('Normal_Bearing.csv',index=False) "
   ]
  }
 ],
 "metadata": {
  "kernelspec": {
   "display_name": "Python 3",
   "language": "python",
   "name": "python3"
  },
  "language_info": {
   "codemirror_mode": {
    "name": "ipython",
    "version": 3
   },
   "file_extension": ".py",
   "mimetype": "text/x-python",
   "name": "python",
   "nbconvert_exporter": "python",
   "pygments_lexer": "ipython3",
   "version": "3.10.6"
  },
  "vscode": {
   "interpreter": {
    "hash": "aff3b01c940582fe8785fbf50639e6908d23e111150254af7e68b7c08084e9ea"
   }
  }
 },
 "nbformat": 4,
 "nbformat_minor": 5
}
